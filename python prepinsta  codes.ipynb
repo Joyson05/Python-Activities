{
  "nbformat": 4,
  "nbformat_minor": 0,
  "metadata": {
    "colab": {
      "name": "practice.ipynb",
      "provenance": [],
      "collapsed_sections": []
    },
    "kernelspec": {
      "name": "python3",
      "display_name": "Python 3"
    },
    "language_info": {
      "name": "python"
    }
  },
  "cells": [
    {
      "cell_type": "code",
      "source": [
        "#1.Positive or Negative number\n",
        "a=int(input(\"Enter\"))\n",
        "if a<0:\n",
        "  print(\"Negative\")\n",
        "else:\n",
        "  print(\"Positive\")"
      ],
      "metadata": {
        "colab": {
          "base_uri": "https://localhost:8080/"
        },
        "id": "7vjkF-rAF1cx",
        "outputId": "afc2de4e-8914-4c0a-959f-f31b8c60ab74"
      },
      "execution_count": null,
      "outputs": [
        {
          "output_type": "stream",
          "name": "stdout",
          "text": [
            "Enter-9\n",
            "Negative\n"
          ]
        }
      ]
    },
    {
      "cell_type": "code",
      "source": [
        "a = int(input(\"Enter number: \"))\n",
        "if a < 0:\n",
        "    print(f\"{a} is a negative number\")\n",
        "elif a > 0:\n",
        "    print(f\"{a} is a positive number\")\n",
        "else:\n",
        "    print(\"zero is neither positive nor negative\")"
      ],
      "metadata": {
        "colab": {
          "base_uri": "https://localhost:8080/"
        },
        "id": "Bvfrt8gvHEm7",
        "outputId": "a8ec39be-ed4c-439f-a308-e6177b20a3b3"
      },
      "execution_count": null,
      "outputs": [
        {
          "output_type": "stream",
          "name": "stdout",
          "text": [
            "Enter number: -98\n",
            "-98 is a negative number\n"
          ]
        }
      ]
    },
    {
      "cell_type": "code",
      "source": [
        "#2 Even Or Odd\n",
        "a=int(input(\"Enter:\"))\n",
        "if a%2==0:\n",
        "  print(f\"{a} is even\")\n",
        "else:\n",
        "  print(\"odd\")"
      ],
      "metadata": {
        "colab": {
          "base_uri": "https://localhost:8080/"
        },
        "id": "JNKMUKNVHEqD",
        "outputId": "7f3f4e61-89a4-4043-edee-2ffa0f1457a6"
      },
      "execution_count": null,
      "outputs": [
        {
          "output_type": "stream",
          "name": "stdout",
          "text": [
            "Enter:5\n",
            "odd\n"
          ]
        }
      ]
    },
    {
      "cell_type": "code",
      "source": [
        "#3.Sum of First N Natural numbers\n",
        "n=int(input(\"Enter:\"))\n",
        "sum=int((n*(n+1))/2)\n",
        "print(f\"{sum} is the answer\")"
      ],
      "metadata": {
        "colab": {
          "base_uri": "https://localhost:8080/"
        },
        "id": "jnYuDHZZKbXI",
        "outputId": "64f3b071-800e-470c-a209-d1d7e4422ff8"
      },
      "execution_count": null,
      "outputs": [
        {
          "output_type": "stream",
          "name": "stdout",
          "text": [
            "Enter:6\n",
            "21 is the answer\n"
          ]
        }
      ]
    },
    {
      "cell_type": "code",
      "source": [
        "#4.Sum of numbers in a given range\n",
        "low_lm=int(input(\"enter:\"))\n",
        "upp_lm=int(input(\"enter:\"))\n",
        "sum=0\n",
        "for i in range(low_lm,upp_lm+1):\n",
        "  sum +=i\n",
        "print(f\"sum of number between {low_lm} and {upp_lm} is {sum} \")"
      ],
      "metadata": {
        "colab": {
          "base_uri": "https://localhost:8080/"
        },
        "id": "4judF5t3HEsw",
        "outputId": "3ac613aa-0b54-4bc4-f824-5bbf009dd836"
      },
      "execution_count": null,
      "outputs": [
        {
          "output_type": "stream",
          "name": "stdout",
          "text": [
            "enter:5\n",
            "enter:9\n",
            "sum of number between 5 and 9 is 35 \n"
          ]
        }
      ]
    },
    {
      "cell_type": "code",
      "source": [
        "#5.Greatest of two numbers\n",
        "num1=int(input(\"Enter num1:\"))\n",
        "num2=int(input(\"Enter num2:\"))\n",
        "if num1>num2:\n",
        "  print(f\"{num1} is greater than {num2}\")\n",
        "elif num2>num1:\n",
        "  print(f\"{num2} is greater than {num1}\")\n",
        "else:\n",
        "  print(\"both are equal\")"
      ],
      "metadata": {
        "colab": {
          "base_uri": "https://localhost:8080/"
        },
        "id": "U4R0_OrBHEvi",
        "outputId": "66046129-12e8-4cd2-b00e-6a7a00fa3c4e"
      },
      "execution_count": null,
      "outputs": [
        {
          "output_type": "stream",
          "name": "stdout",
          "text": [
            "Enter num1:4\n",
            "Enter num2:4\n",
            "both are equal\n"
          ]
        }
      ]
    },
    {
      "cell_type": "code",
      "source": [
        "#6.Greatest of the Three numbers\n",
        "num1=int(input(\"Enter num1:\"))\n",
        "num2=int(input(\"Enter num2:\"))\n",
        "num3=int(input(\"Enter num3:\"))\n",
        "if num1>num2>num3:\n",
        "  print(f\"{num1} is greater than all\")\n",
        "elif num1<num2>num3:\n",
        "  print(f\"{num2} is greater than all\")\n",
        "else:\n",
        "  print(f\"{num3} is greater than all\")"
      ],
      "metadata": {
        "colab": {
          "base_uri": "https://localhost:8080/"
        },
        "id": "9t5xGy3XHEyK",
        "outputId": "bed52fee-cea9-43d3-c69a-2ab1a27bdb0b"
      },
      "execution_count": null,
      "outputs": [
        {
          "output_type": "stream",
          "name": "stdout",
          "text": [
            "Enter num1:1\n",
            "Enter num2:2\n",
            "Enter num3:3\n",
            "3 is greater than all\n"
          ]
        }
      ]
    },
    {
      "cell_type": "code",
      "source": [
        "first = int(input(\"Enter first number: \"))\n",
        "second = int(input(\"Enter second number: \"))\n",
        "third = int(input(\"Enter third number: \"))\n",
        "a = [first, second, third]\n",
        "print(f\"{max(a)} is the greatest number\")\n"
      ],
      "metadata": {
        "colab": {
          "base_uri": "https://localhost:8080/"
        },
        "id": "x6hemD3mHE0w",
        "outputId": "5687a653-7963-45fd-e72c-24d961a0afdd"
      },
      "execution_count": null,
      "outputs": [
        {
          "output_type": "stream",
          "name": "stdout",
          "text": [
            "Enter first number: 8\n",
            "Enter second number: 6\n",
            "Enter third number: 3\n",
            "8 is the greatest number\n"
          ]
        }
      ]
    },
    {
      "cell_type": "code",
      "source": [
        "#7.Leap year or not\n",
        "year=int(input(\"Enter: \"))\n",
        "if (year%4==0 and year%100!=0) or (year%100==0 and year%400==0):\n",
        "  print(f\"{year} is a leap year\")\n",
        "else:\n",
        "   print(f\"{year} is not a leap year\")"
      ],
      "metadata": {
        "colab": {
          "base_uri": "https://localhost:8080/"
        },
        "id": "J6ZaigdkYhYn",
        "outputId": "f27f68ea-892f-41fd-9baf-874df6a50f3b"
      },
      "execution_count": null,
      "outputs": [
        {
          "output_type": "stream",
          "name": "stdout",
          "text": [
            "Enter: 2005\n",
            "2005 is not a leap year\n"
          ]
        }
      ]
    },
    {
      "cell_type": "code",
      "source": [
        "#8.Prime number\n",
        "a=int(input(\"Enter value: \"))\n",
        "if a%1==0 or a%a==0:\n",
        "  print(f\"{a} is a prime number\")\n",
        "else:\n",
        "  print(f\"{a} is not a prime number\")\n"
      ],
      "metadata": {
        "colab": {
          "base_uri": "https://localhost:8080/"
        },
        "id": "NeEDngpnYhbD",
        "outputId": "2651fab6-38e3-42dc-fa46-7494849d0642"
      },
      "execution_count": null,
      "outputs": [
        {
          "output_type": "stream",
          "name": "stdout",
          "text": [
            "Enter value: 26\n",
            "26 is a prime number\n"
          ]
        }
      ]
    },
    {
      "cell_type": "code",
      "source": [
        "a = int(input(\"Enter number: \"))\n",
        "prime = False\n",
        "for i in range(2, a):\n",
        "    if a % i == 0:\n",
        "        break\n",
        "else:\n",
        "    prime = True\n",
        "print(f\"{a} is a prime number\") if prime else print(f\"{a} is not a prime number\")"
      ],
      "metadata": {
        "colab": {
          "base_uri": "https://localhost:8080/"
        },
        "id": "IDqxHFknYhdr",
        "outputId": "0112b157-cf0c-45e8-a53b-78725be7064e"
      },
      "execution_count": null,
      "outputs": [
        {
          "output_type": "stream",
          "name": "stdout",
          "text": [
            "Enter number: 9\n",
            "9 is not a prime number\n"
          ]
        }
      ]
    },
    {
      "cell_type": "code",
      "source": [
        "a = int(input(\"Enter number: \"))\n",
        "if a<=1:\n",
        "  print(\"num should be greater than one\")\n",
        "else:\n",
        "  for i in range(2,a):\n",
        "    if a%i==0:\n",
        "      print(\"this is not a prime number\")\n",
        "      break\n",
        "  else:\n",
        "    print(\"this is a prime number\")\n",
        "\n"
      ],
      "metadata": {
        "id": "uWhZOhzrYhf2",
        "colab": {
          "base_uri": "https://localhost:8080/"
        },
        "outputId": "d42e21a1-f29b-45e0-a887-e1225d0f0639"
      },
      "execution_count": null,
      "outputs": [
        {
          "output_type": "stream",
          "name": "stdout",
          "text": [
            "Enter number: 2\n",
            "this is a prime number\n"
          ]
        }
      ]
    },
    {
      "cell_type": "code",
      "source": [
        "#9.Prime number in a given range\n",
        "low_lm=int(input(\"enter:\"))\n",
        "upp_lm=int(input(\"enter:\"))\n",
        "if low_lm<=1:\n",
        "  print(\"low_lm should be greater than 1\")\n",
        "else:\n",
        "  for a in range(low_lm,upp_lm+1):\n",
        "    for i in range(2,a):\n",
        "      if a%i==0:\n",
        "        print(f\"{a} is not a prime number\")\n",
        "        break\n",
        "      else:\n",
        "        print(f\"{a} is a prime number\")\n"
      ],
      "metadata": {
        "colab": {
          "base_uri": "https://localhost:8080/"
        },
        "id": "uTjujpdighIs",
        "outputId": "84d76f61-04d4-4410-d943-086f529eb15c"
      },
      "execution_count": null,
      "outputs": [
        {
          "output_type": "stream",
          "name": "stdout",
          "text": [
            "enter:3\n",
            "enter:9\n",
            "3 is a prime number\n",
            "4 is not a prime number\n",
            "5 is a prime number\n",
            "5 is a prime number\n",
            "5 is a prime number\n",
            "6 is not a prime number\n",
            "7 is a prime number\n",
            "7 is a prime number\n",
            "7 is a prime number\n",
            "7 is a prime number\n",
            "7 is a prime number\n",
            "8 is not a prime number\n",
            "9 is a prime number\n",
            "9 is not a prime number\n"
          ]
        }
      ]
    },
    {
      "cell_type": "code",
      "source": [
        "#10.sum of digits\n",
        "a=input(\"Enter Value: \")\n",
        "sum=0\n",
        "for i in a:\n",
        "  sum += int(i)\n",
        "print(\"sum is\",sum)\n"
      ],
      "metadata": {
        "colab": {
          "base_uri": "https://localhost:8080/"
        },
        "id": "e49GHIP9ghLx",
        "outputId": "d87c3a87-8363-40e8-edff-5117678bc6f3"
      },
      "execution_count": null,
      "outputs": [
        {
          "output_type": "stream",
          "name": "stdout",
          "text": [
            "Enter Value: 25\n",
            "sum is 7\n"
          ]
        }
      ]
    },
    {
      "cell_type": "code",
      "source": [
        "a=input(\"Enter Value: \")\n",
        "sum=0\n",
        "for i in a:\n",
        "  sum+=int(i)\n",
        "print(sum)  \n",
        "\n"
      ],
      "metadata": {
        "colab": {
          "base_uri": "https://localhost:8080/"
        },
        "id": "ERjQXk9yghQ_",
        "outputId": "f73eeb1c-feb3-4822-fa3b-d9cf04f543c1"
      },
      "execution_count": null,
      "outputs": [
        {
          "output_type": "stream",
          "name": "stdout",
          "text": [
            "Enter Value: 66\n",
            "12\n"
          ]
        }
      ]
    },
    {
      "cell_type": "code",
      "source": [
        "#11 reverse of a number\n",
        "a=input(\"Enter Value: \")\n",
        "print(a[::-1])\n"
      ],
      "metadata": {
        "colab": {
          "base_uri": "https://localhost:8080/"
        },
        "id": "OZZ-syNLghTY",
        "outputId": "7a1dc8aa-28cf-4901-febd-a6a3e56916e5"
      },
      "execution_count": null,
      "outputs": [
        {
          "output_type": "stream",
          "name": "stdout",
          "text": [
            "Enter Value: 356\n",
            "653\n"
          ]
        }
      ]
    },
    {
      "cell_type": "code",
      "source": [
        "#12 palindrome\n",
        "a=input(\"Enter Value: \")\n",
        "if a[::-1]==a:\n",
        "  print(f\"{a} is a palindrome\")\n",
        "else:\n",
        "  print(f\"{a} is not a palindrome\")"
      ],
      "metadata": {
        "id": "Sz-x2dXsYhiL",
        "colab": {
          "base_uri": "https://localhost:8080/"
        },
        "outputId": "271c6a59-9c06-4489-c193-ab05b95eb245"
      },
      "execution_count": null,
      "outputs": [
        {
          "output_type": "stream",
          "name": "stdout",
          "text": [
            "Enter Value: 121\n",
            "121 is a palindrome\n"
          ]
        }
      ]
    },
    {
      "cell_type": "code",
      "source": [
        "#13 Armstrong Number\n",
        "a=input(\"Enter Value: \")\n",
        "result=0\n",
        "for i in a:\n",
        "  result +=int(i)**len(a)\n",
        "if result==int(a):\n",
        "  print(f\"{a} is a Armstrong Number\")\n",
        "else:\n",
        "  print(f\"{a} is not a Armstrong Number\")"
      ],
      "metadata": {
        "id": "LN_e0MZcYhlP",
        "colab": {
          "base_uri": "https://localhost:8080/"
        },
        "outputId": "b597363c-e987-4ede-d2be-8cfa609c54c1"
      },
      "execution_count": null,
      "outputs": [
        {
          "output_type": "stream",
          "name": "stdout",
          "text": [
            "Enter Value: 153\n",
            "153 is a Armstrong Number\n"
          ]
        }
      ]
    },
    {
      "cell_type": "code",
      "source": [
        "#14 Armstrong Numbers Between Two Intervals\n",
        "a=input(\"Enter Value: \")\n",
        "b=input(\"Enter Value: \")\n",
        "for i in range(int(a),int(b)+1):\n",
        "  result=0\n",
        "  for j in str(i):\n",
        "    result +=(int(j))**len(str(i))\n",
        "    if result==int(i):\n",
        "      print(f\"{i} is a armstog number\")\n",
        "  #else:\n",
        "    #print(f\"{a} is not a armstrong number\")\n",
        "\n"
      ],
      "metadata": {
        "id": "Tje0XX6n7MKQ",
        "colab": {
          "base_uri": "https://localhost:8080/"
        },
        "outputId": "ecae9be0-2f16-48af-8c1c-dd9ca3ea94df"
      },
      "execution_count": null,
      "outputs": [
        {
          "output_type": "stream",
          "name": "stdout",
          "text": [
            "Enter Value: 1\n",
            "Enter Value: 500\n",
            "1 is a armstog number\n",
            "2 is a armstog number\n",
            "3 is a armstog number\n",
            "4 is a armstog number\n",
            "5 is a armstog number\n",
            "6 is a armstog number\n",
            "7 is a armstog number\n",
            "8 is a armstog number\n",
            "9 is a armstog number\n",
            "153 is a armstog number\n",
            "370 is a armstog number\n",
            "370 is a armstog number\n",
            "371 is a armstog number\n",
            "407 is a armstog number\n"
          ]
        }
      ]
    },
    {
      "cell_type": "code",
      "source": [
        "#15 Fibonacci series\n",
        "a=int(input(\"Enter Value: \"))\n",
        "k=[0,1]\n",
        "for i in range(0,a-2):\n",
        "  k.append(k[-2]+k[-1])\n",
        "print(k)"
      ],
      "metadata": {
        "id": "NGrXq2uU9Txk",
        "colab": {
          "base_uri": "https://localhost:8080/"
        },
        "outputId": "a9d55cfa-1b85-41f5-a7dd-07743922a77e"
      },
      "execution_count": null,
      "outputs": [
        {
          "output_type": "stream",
          "name": "stdout",
          "text": [
            "Enter Value: 10\n",
            "[0, 1, 1, 2, 3, 5, 8, 13, 21, 34]\n"
          ]
        }
      ]
    },
    {
      "cell_type": "code",
      "source": [
        "#16.Factorial of number\n",
        "#a=int(input(\"Enter Value: \"))\n",
        "def fact(a):\n",
        "  out=1\n",
        "  for i in range(1,a+1):\n",
        "    out=out*i\n",
        "  print(out)\n",
        "fact(8)"
      ],
      "metadata": {
        "id": "FT7JhGTnYhoG",
        "colab": {
          "base_uri": "https://localhost:8080/"
        },
        "outputId": "0aa39a1f-d0d5-4094-b356-b78459b0d02a"
      },
      "execution_count": null,
      "outputs": [
        {
          "output_type": "stream",
          "name": "stdout",
          "text": [
            "40320\n"
          ]
        }
      ]
    },
    {
      "cell_type": "code",
      "source": [
        "#17 Power of a Number\n",
        "a=int(input(\"Base Value: \"))\n",
        "b=int(input(\"Power Value: \"))\n",
        "out=a**b\n",
        "print(f\"{a} power {b} is {out}\")"
      ],
      "metadata": {
        "colab": {
          "base_uri": "https://localhost:8080/"
        },
        "id": "3gE3yKc1pNlD",
        "outputId": "f0574b52-b267-49cd-f0a9-6fb3835caea3"
      },
      "execution_count": null,
      "outputs": [
        {
          "output_type": "stream",
          "name": "stdout",
          "text": [
            "Base Value: 5\n",
            "Power Value: 2\n",
            "5 power 2 is 25\n"
          ]
        }
      ]
    },
    {
      "cell_type": "code",
      "source": [
        "#18.Factors of number\n",
        "a=int(input(\"Enter Value: \"))\n",
        "fact=[]\n",
        "for i in range(1,a+1):\n",
        "  if a%i==0:\n",
        "    fact.append(i)\n",
        "print(fact)"
      ],
      "metadata": {
        "colab": {
          "base_uri": "https://localhost:8080/"
        },
        "id": "INsqLVU7xP-9",
        "outputId": "f2a63806-f47a-4daf-8362-e7614bc71ee0"
      },
      "execution_count": null,
      "outputs": [
        {
          "output_type": "stream",
          "name": "stdout",
          "text": [
            "Enter Value: 16\n",
            "[1, 2, 4, 8, 16]\n"
          ]
        }
      ]
    },
    {
      "cell_type": "code",
      "source": [
        "#19.Strong number\n",
        "a=input(\"Enter Value: \")\n",
        "import math\n",
        "out1=0\n",
        "for i in a:\n",
        "  out1+=math.factorial(int(i))\n",
        "if out1==int(a):\n",
        "  print(f\"The number {a} is strong number\")\n",
        "else:\n",
        "  print(f\"The number {a} is not a strong number\")"
      ],
      "metadata": {
        "colab": {
          "base_uri": "https://localhost:8080/"
        },
        "id": "w37tYdOkyjuC",
        "outputId": "d391bc18-7777-4ce7-8530-082b7618ac6a"
      },
      "execution_count": null,
      "outputs": [
        {
          "output_type": "stream",
          "name": "stdout",
          "text": [
            "Enter Value: 145\n",
            "The number 145 is strong number\n"
          ]
        }
      ]
    },
    {
      "cell_type": "code",
      "source": [
        "#Strong number between two intervals\n",
        "a=int(input(\"Enter Value: \"))\n",
        "b=int(input(\"Enter Value: \"))\n",
        "import math\n",
        "for i in range(a,b+1):\n",
        "  out1=0\n",
        "  for j in str(i):\n",
        "    out1+=math.factorial(int(j))\n",
        "  if out1==int(i):\n",
        "    print(f\"The number {i} is strong number\")\n",
        "  #else:\n",
        "    #print(f\"The number {a} is not a strong number\")"
      ],
      "metadata": {
        "colab": {
          "base_uri": "https://localhost:8080/"
        },
        "id": "teNOMMDV5LeV",
        "outputId": "938236b4-a109-47af-d800-2495aeaf61f9"
      },
      "execution_count": null,
      "outputs": [
        {
          "output_type": "stream",
          "name": "stdout",
          "text": [
            "Enter Value: 1\n",
            "Enter Value: 500\n",
            "The number 1 is strong number\n",
            "The number 2 is strong number\n",
            "The number 145 is strong number\n"
          ]
        }
      ]
    },
    {
      "cell_type": "code",
      "source": [
        "#20.Perfect Number\n",
        "a=int(input(\"Enter Value: \"))\n",
        "out=0\n",
        "for i in range(1,a):\n",
        "  if a%i==0:\n",
        "    out+=i\n",
        "  else:\n",
        "    pass\n",
        "if out==a:\n",
        "  print(f\"{a} is a perfect number\")\n",
        "else:\n",
        "  print(f\"{a} is not a perfect number\")\n"
      ],
      "metadata": {
        "colab": {
          "base_uri": "https://localhost:8080/"
        },
        "id": "G6zTRmze7Szt",
        "outputId": "362d6aa8-678b-4c53-e654-dd6f8a7491e5"
      },
      "execution_count": null,
      "outputs": [
        {
          "output_type": "stream",
          "name": "stdout",
          "text": [
            "Enter Value: 10\n",
            "10 is not a perfect number\n"
          ]
        }
      ]
    },
    {
      "cell_type": "code",
      "source": [
        "#Perfect Number b/w two intervals\n",
        "input1=input(\"enter the lower limit: \")\n",
        "input2=input(\"enter the upper limit: \")\n",
        "for i in range(int(input1),int(input2)+1):\n",
        "  a=0\n",
        "  for j in range(1,i):\n",
        "    if i%j==0:\n",
        "      a+=i\n",
        "  if a==i:\n",
        "    print(f\"The number {i} is a perfect number\")\n",
        "  #else:\n",
        "    #print(f\"The number {i} is a perfect number\")\n"
      ],
      "metadata": {
        "colab": {
          "base_uri": "https://localhost:8080/"
        },
        "id": "SXj5HaTxBzNr",
        "outputId": "286ebf48-49f4-41dd-a365-aac482aa470d"
      },
      "execution_count": null,
      "outputs": [
        {
          "output_type": "stream",
          "name": "stdout",
          "text": [
            "enter the lower limit: 1\n",
            "enter the upper limit: 30\n",
            "The number 2 is a perfect number\n",
            "The number 3 is a perfect number\n",
            "The number 5 is a perfect number\n",
            "The number 7 is a perfect number\n",
            "The number 11 is a perfect number\n",
            "The number 13 is a perfect number\n",
            "The number 17 is a perfect number\n",
            "The number 19 is a perfect number\n",
            "The number 23 is a perfect number\n",
            "The number 29 is a perfect number\n"
          ]
        }
      ]
    },
    {
      "cell_type": "code",
      "source": [
        "#21.Automorphic Number\n",
        "a=int(input(\"Enter Value: \"))\n",
        "out=str(a*a)\n",
        "if out[-2:]==str(a):\n",
        "  print(f\"{a} is a Automorphic Number\")\n",
        "else:\n",
        "  print(f\"{a} is not a Automorphic Number\")"
      ],
      "metadata": {
        "colab": {
          "base_uri": "https://localhost:8080/"
        },
        "id": "HrBD8jL5Uj36",
        "outputId": "62dfa26e-6559-48f2-fc05-d855187d82ff"
      },
      "execution_count": null,
      "outputs": [
        {
          "output_type": "stream",
          "name": "stdout",
          "text": [
            "Enter Value: 70\n",
            "70 is not a Automorphic Number\n"
          ]
        }
      ]
    },
    {
      "cell_type": "code",
      "source": [
        "#Automorphic Number b/w two Intervals\n",
        "a=int(input(\"Enter Value: \"))\n",
        "b=int(input(\"Enter Value: \"))\n",
        "for i in range(a,b+1):\n",
        "  out=str(i*i)\n",
        "  if out[-2:]==str(i):\n",
        "    print(f\"{i} is a Automorphic Number\")"
      ],
      "metadata": {
        "colab": {
          "base_uri": "https://localhost:8080/"
        },
        "id": "KFLZlsUXUj7L",
        "outputId": "5f1ba84c-d555-4740-aded-0558bcafb303"
      },
      "execution_count": null,
      "outputs": [
        {
          "output_type": "stream",
          "name": "stdout",
          "text": [
            "Enter Value: 1\n",
            "Enter Value: 10000\n",
            "1 is a Automorphic Number\n",
            "25 is a Automorphic Number\n",
            "76 is a Automorphic Number\n"
          ]
        }
      ]
    },
    {
      "cell_type": "code",
      "source": [
        "k=\"6570635\"\n",
        "k[-2:]"
      ],
      "metadata": {
        "colab": {
          "base_uri": "https://localhost:8080/",
          "height": 35
        },
        "id": "LJXimP5PUj-D",
        "outputId": "0ae4f422-ace5-4693-d599-94e66811f3c9"
      },
      "execution_count": null,
      "outputs": [
        {
          "output_type": "execute_result",
          "data": {
            "application/vnd.google.colaboratory.intrinsic+json": {
              "type": "string"
            },
            "text/plain": [
              "'35'"
            ]
          },
          "metadata": {},
          "execution_count": 91
        }
      ]
    },
    {
      "cell_type": "code",
      "source": [
        "#22.Harshad number\n",
        "a=input(\"Enter Value: \")\n",
        "out=0\n",
        "for i in a:\n",
        "  out+=int(i)\n",
        "k=int(a)/out \n",
        "print(k)"
      ],
      "metadata": {
        "colab": {
          "base_uri": "https://localhost:8080/"
        },
        "id": "6HHJ6-kxUkAX",
        "outputId": "9309cdc0-1d8f-4ace-fb46-ddc9cd02a23a"
      },
      "execution_count": null,
      "outputs": [
        {
          "output_type": "stream",
          "name": "stdout",
          "text": [
            "Enter Value: 408\n",
            "34.0\n"
          ]
        }
      ]
    },
    {
      "cell_type": "code",
      "source": [
        "#24.Abundant Number\n",
        "a=int(input(\"Enter Value: \"))\n",
        "out=0\n",
        "for i in range(1,a):\n",
        "  if a%i==0:\n",
        "    out+=i\n",
        "if out>a:\n",
        "  print(f\"{a} is a abundant number\")   \n",
        "else:\n",
        "  print(f\"{a} is not a abundant number\")   "
      ],
      "metadata": {
        "colab": {
          "base_uri": "https://localhost:8080/"
        },
        "id": "yz7UMMeDivgD",
        "outputId": "c9267a48-711b-498d-d92f-a05df51b71dc"
      },
      "execution_count": null,
      "outputs": [
        {
          "output_type": "stream",
          "name": "stdout",
          "text": [
            "Enter Value: 21\n",
            "21 is not a abundant number\n"
          ]
        }
      ]
    },
    {
      "cell_type": "code",
      "source": [
        "56/12"
      ],
      "metadata": {
        "colab": {
          "base_uri": "https://localhost:8080/"
        },
        "id": "HH1_ZP2sivie",
        "outputId": "45f9f3c0-42a3-4fc8-d6b4-95aa2ef1499c"
      },
      "execution_count": null,
      "outputs": [
        {
          "output_type": "execute_result",
          "data": {
            "text/plain": [
              "4.666666666666667"
            ]
          },
          "metadata": {},
          "execution_count": 108
        }
      ]
    },
    {
      "cell_type": "code",
      "source": [
        "#25.Friendly pair\n",
        "a=int(input(\"Enter Value: \"))\n",
        "b=int(input(\"Enter Value: \"))\n",
        "out1=0\n",
        "out2=0\n",
        "for i in range(1,a):\n",
        "  if a%i==0:\n",
        "    out1 += i\n",
        "for j in range(1,b):\n",
        "  if b%j==0:\n",
        "    out2 += j\n",
        "if out1==b and out2==a:\n",
        "  print(f\"{a} and {b} are amicable numbers.\")\n",
        "else:\n",
        "  print(f\"{a} and {b} are not amicable numbers.\")\n"
      ],
      "metadata": {
        "colab": {
          "base_uri": "https://localhost:8080/"
        },
        "id": "WXB0yDZPivnF",
        "outputId": "1a0497da-6c32-44c1-d470-f794936c9618"
      },
      "execution_count": null,
      "outputs": [
        {
          "output_type": "stream",
          "name": "stdout",
          "text": [
            "Enter Value: 2620\n",
            "Enter Value: 2924\n",
            "2620 and 2924 are amicable numbers\n"
          ]
        }
      ]
    },
    {
      "cell_type": "code",
      "source": [
        "# Multiplication table.\n",
        "a=int(input(\"Enter Value: \"))\n",
        "for i in range(1,11):\n",
        "  print(f\"{a} x {i} = {a*i}\")\n",
        "  "
      ],
      "metadata": {
        "id": "kAR5Tdtniv1-",
        "colab": {
          "base_uri": "https://localhost:8080/"
        },
        "outputId": "629cfb38-4e4f-4ec4-86dc-16683f1ef8b3"
      },
      "execution_count": null,
      "outputs": [
        {
          "output_type": "stream",
          "name": "stdout",
          "text": [
            "Enter Value: 3\n",
            "3 x 1 = 3\n",
            "3 x 2 = 6\n",
            "3 x 3 = 9\n",
            "3 x 4 = 12\n",
            "3 x 5 = 15\n",
            "3 x 6 = 18\n",
            "3 x 7 = 21\n",
            "3 x 8 = 24\n",
            "3 x 9 = 27\n",
            "3 x 10 = 30\n"
          ]
        }
      ]
    },
    {
      "cell_type": "markdown",
      "source": [
        "#string"
      ],
      "metadata": {
        "id": "3yf7YGkj-C8d"
      }
    },
    {
      "cell_type": "code",
      "source": [
        "1.#length function.\n",
        "def lenth(a):\n",
        "  count=0\n",
        "  for i in a:\n",
        "    if i==(\" \"):\n",
        "      continue\n",
        "    else:\n",
        "      count+=1\n",
        "  print(count) "
      ],
      "metadata": {
        "id": "bArxZLRSCJeg"
      },
      "execution_count": null,
      "outputs": []
    },
    {
      "cell_type": "code",
      "source": [
        "lenth(\"micheal jackson\")"
      ],
      "metadata": {
        "colab": {
          "base_uri": "https://localhost:8080/"
        },
        "id": "z2F5qJ5hDADC",
        "outputId": "9b88d0da-b4b2-41d9-f0f1-a9f6c3b626da"
      },
      "execution_count": null,
      "outputs": [
        {
          "output_type": "stream",
          "name": "stdout",
          "text": [
            "14\n"
          ]
        }
      ]
    },
    {
      "cell_type": "code",
      "source": [
        "#2.Toggle each character in a string\n",
        "a=input(\"Enter Value: \")\n",
        "out=\"\"\n",
        "for i in a:\n",
        "  if i.isupper()==True:\n",
        "    k=i.lower()\n",
        "    out+=k\n",
        "  else:\n",
        "    k1=i.upper()\n",
        "    out+=k1\n",
        "print(out)"
      ],
      "metadata": {
        "colab": {
          "base_uri": "https://localhost:8080/"
        },
        "id": "pMSdfvO6EpDj",
        "outputId": "7dc6b0ea-5aba-476c-a2f1-5be578b94abe"
      },
      "execution_count": null,
      "outputs": [
        {
          "output_type": "stream",
          "name": "stdout",
          "text": [
            "Enter Value: JoYsOn\n",
            "jOySoN\n"
          ]
        }
      ]
    },
    {
      "cell_type": "code",
      "source": [
        "#3.Count the number of vowels in a string\n",
        "a=input(\"Enter Value: \")\n",
        "out=0\n",
        "vowels=[\"a\",\"e\",\"i\",\"o\",\"u\"]\n",
        "for i in a:\n",
        "  if i.lower() in vowels:\n",
        "    out+=1\n",
        "print(out)\n",
        "    "
      ],
      "metadata": {
        "colab": {
          "base_uri": "https://localhost:8080/"
        },
        "id": "UZhT0BLeEpHb",
        "outputId": "6636358e-0288-42dd-b6a9-031480759705"
      },
      "execution_count": null,
      "outputs": [
        {
          "output_type": "stream",
          "name": "stdout",
          "text": [
            "Enter Value: joyson\n",
            "2\n"
          ]
        }
      ]
    },
    {
      "cell_type": "code",
      "source": [
        "#4.Remove all characters from string except alphabets (*******)\n",
        "a=input(\"Enter Value: \")\n",
        "result=\"\"\n",
        "ascii_value = [i for i in range(65,91)] +  [i for i in range(97,123)] #to store a range of values in list.\n",
        "for i in a:\n",
        "  for j in ascii_value:\n",
        "      if ord(i)==j:\n",
        "        result+=i\n",
        "print(result)"
      ],
      "metadata": {
        "colab": {
          "base_uri": "https://localhost:8080/"
        },
        "id": "LsJ9XU2QEpRE",
        "outputId": "618e1cd9-371e-4b2b-ed12-122e6837630b"
      },
      "execution_count": null,
      "outputs": [
        {
          "output_type": "stream",
          "name": "stdout",
          "text": [
            "Enter Value: dgvh#$%345ghdvgbh\n",
            "dgvhghdvgbh\n"
          ]
        }
      ]
    },
    {
      "cell_type": "code",
      "source": [
        "#5.Remove brackets from an algebraic expression\n",
        "a=input(\"Enter Value: \")\n",
        "b=(\"{\",\"}\",\"[\",\"]\",\"(\",\")\")\n",
        "result=\"\"\n",
        "for i in a:\n",
        "  if i not in b:\n",
        "    result+=i\n",
        "print(result)\n"
      ],
      "metadata": {
        "colab": {
          "base_uri": "https://localhost:8080/"
        },
        "id": "3hx45kVXcMtB",
        "outputId": "fb5cddd1-9ebe-4860-95da-5601f15fe6be"
      },
      "execution_count": null,
      "outputs": [
        {
          "output_type": "stream",
          "name": "stdout",
          "text": [
            "Enter Value: (s)\n",
            "s\n"
          ]
        }
      ]
    },
    {
      "cell_type": "code",
      "source": [
        "#6.to count the sum of numbers in a string\n",
        "a=input(\"Enter Value: \")\n",
        "out=[]\n",
        "for i in a:\n",
        "  if i.isnumeric():\n",
        "    out.append(int(i))\n",
        "print(sum(out))"
      ],
      "metadata": {
        "colab": {
          "base_uri": "https://localhost:8080/"
        },
        "id": "Tyj9uDvTcM1w",
        "outputId": "e43acb00-6171-4b79-d57c-4597f09679ec"
      },
      "execution_count": null,
      "outputs": [
        {
          "output_type": "stream",
          "name": "stdout",
          "text": [
            "Enter Value: fgh567\n",
            "18\n"
          ]
        }
      ]
    },
    {
      "cell_type": "code",
      "source": [
        "#7.frequency of characters in a string\n",
        "a=input(\"Enter the sentence: \")\n",
        "b=input(\"Enter the word: \")\n",
        "print(a.count(b))"
      ],
      "metadata": {
        "colab": {
          "base_uri": "https://localhost:8080/"
        },
        "id": "kFU1j2nucM_H",
        "outputId": "89ef6085-3b90-40e8-8803-0065056120cd"
      },
      "execution_count": null,
      "outputs": [
        {
          "output_type": "stream",
          "name": "stdout",
          "text": [
            "Enter the sentence: banana\n",
            "Enter the word: a\n",
            "3\n"
          ]
        }
      ]
    },
    {
      "cell_type": "code",
      "source": [
        "#8.pattern\n",
        "a=input(\"Enter the sentence: \")\n",
        "for i in range(1,int(a)+1):\n",
        "  print(\"*\"*i)\n"
      ],
      "metadata": {
        "colab": {
          "base_uri": "https://localhost:8080/"
        },
        "id": "URwx_wyccNET",
        "outputId": "9e8b9086-d3f0-4466-ef1c-6d681249442d"
      },
      "execution_count": null,
      "outputs": [
        {
          "output_type": "stream",
          "name": "stdout",
          "text": [
            "Enter the sentence: 5\n",
            "*\n",
            "**\n",
            "***\n",
            "****\n",
            "*****\n"
          ]
        }
      ]
    },
    {
      "cell_type": "code",
      "source": [
        "#9. find non repeating characters in a string\n",
        "a=input(\"enter the input: \")\n",
        "out=\"\"\n",
        "for i in a:\n",
        "  if a.count(i)==1:\n",
        "    out+=i\n",
        "print(out)"
      ],
      "metadata": {
        "colab": {
          "base_uri": "https://localhost:8080/"
        },
        "id": "zCTA77GacNHT",
        "outputId": "b978fd67-ca85-46b2-dd53-9cacc981e160"
      },
      "execution_count": null,
      "outputs": [
        {
          "output_type": "stream",
          "name": "stdout",
          "text": [
            "enter the input: joyson\n",
            "jysn\n"
          ]
        }
      ]
    },
    {
      "cell_type": "code",
      "source": [
        "#10.pattern\n",
        "input1=int(input(\"enter the input: \"))\n",
        "import numpy as np\n",
        "a=[]\n",
        "for i in range(1,input1+1):\n",
        "  a.append(i)\n",
        "b=np.median(a)\n",
        "for j in range(int(b)):\n",
        "   print('*' *j)\n",
        "for k in range(int(b),0,-1):\n",
        "   print('*' *k)"
      ],
      "metadata": {
        "colab": {
          "base_uri": "https://localhost:8080/"
        },
        "id": "R6bDdbAPzq0C",
        "outputId": "e0eebc1f-a69c-4367-ea86-421a6806f6d7"
      },
      "execution_count": null,
      "outputs": [
        {
          "output_type": "stream",
          "name": "stdout",
          "text": [
            "enter the input: 5\n",
            "\n",
            "*\n",
            "**\n",
            "***\n",
            "**\n",
            "*\n"
          ]
        }
      ]
    },
    {
      "cell_type": "markdown",
      "source": [
        "#Array"
      ],
      "metadata": {
        "id": "5HOoHXwuuylj"
      }
    },
    {
      "cell_type": "code",
      "source": [
        "#1.Second Smallest Element\n",
        "size=int(input(\"Enter Value: \"))\n",
        "a=[int(input()) for _ in range(size)]\n",
        "a.sort()\n",
        "print(\"input: \", a)\n",
        "a[1]"
      ],
      "metadata": {
        "colab": {
          "base_uri": "https://localhost:8080/"
        },
        "id": "03CP8ZRtuv20",
        "outputId": "932736e3-5e94-4b16-a494-89483bb927ee"
      },
      "execution_count": null,
      "outputs": [
        {
          "output_type": "stream",
          "name": "stdout",
          "text": [
            "Enter Value: 4\n",
            "1\n",
            "2\n",
            "9\n",
            "6\n",
            "input:  [1, 2, 6, 9]\n"
          ]
        },
        {
          "output_type": "execute_result",
          "data": {
            "text/plain": [
              "2"
            ]
          },
          "metadata": {},
          "execution_count": 9
        }
      ]
    },
    {
      "cell_type": "code",
      "source": [
        "a = []\n",
        "i, j = 3, 3\n",
        "for _ in range(i):\n",
        "    b = []\n",
        "    for _ in range(j):\n",
        "        b.append(int(input()))\n",
        "    a.append(b)"
      ],
      "metadata": {
        "colab": {
          "base_uri": "https://localhost:8080/"
        },
        "id": "LEgNYl7zuv5z",
        "outputId": "51d6231f-a588-4673-c0c5-56025e2556c7"
      },
      "execution_count": null,
      "outputs": [
        {
          "name": "stdout",
          "output_type": "stream",
          "text": [
            "1\n",
            "2\n",
            "3\n",
            "4\n",
            "5\n",
            "6\n",
            "7\n",
            "8\n",
            "9\n"
          ]
        }
      ]
    },
    {
      "cell_type": "code",
      "source": [
        "a"
      ],
      "metadata": {
        "colab": {
          "base_uri": "https://localhost:8080/"
        },
        "id": "33uvy5Abuv8W",
        "outputId": "53c9da76-e44b-47c1-cfa9-8fafa24d322d"
      },
      "execution_count": null,
      "outputs": [
        {
          "output_type": "execute_result",
          "data": {
            "text/plain": [
              "[[1, 2, 3], [4, 5, 6], [7, 8, 9]]"
            ]
          },
          "metadata": {},
          "execution_count": 11
        }
      ]
    },
    {
      "cell_type": "code",
      "source": [
        "b=[3,5,7,9]\n",
        "b.reverse()\n",
        "print(b)"
      ],
      "metadata": {
        "colab": {
          "base_uri": "https://localhost:8080/"
        },
        "id": "09k0_7qZuv--",
        "outputId": "28a4b0c5-4b70-4ca1-96b4-eca4cb98652c"
      },
      "execution_count": null,
      "outputs": [
        {
          "output_type": "stream",
          "name": "stdout",
          "text": [
            "[9, 7, 5, 3]\n"
          ]
        }
      ]
    },
    {
      "cell_type": "code",
      "source": [
        ""
      ],
      "metadata": {
        "id": "Y2inrKzbuwBX"
      },
      "execution_count": null,
      "outputs": []
    },
    {
      "cell_type": "code",
      "source": [
        ""
      ],
      "metadata": {
        "id": "LZpKTPGXuwEP"
      },
      "execution_count": null,
      "outputs": []
    },
    {
      "cell_type": "code",
      "source": [
        ""
      ],
      "metadata": {
        "id": "g3ILEyhyuwGS"
      },
      "execution_count": null,
      "outputs": []
    },
    {
      "cell_type": "code",
      "source": [
        ""
      ],
      "metadata": {
        "id": "Z7gbs2CouwIX"
      },
      "execution_count": null,
      "outputs": []
    }
  ]
}
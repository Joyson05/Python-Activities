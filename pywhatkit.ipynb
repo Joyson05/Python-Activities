{
 "cells": [
  {
   "cell_type": "code",
   "execution_count": 1,
   "metadata": {},
   "outputs": [
    {
     "name": "stdout",
     "output_type": "stream",
     "text": [
      "In 37712 Seconds WhatsApp will open and after 15 Seconds Message will be Delivered!\n"
     ]
    }
   ],
   "source": [
    "#!pip install pywhatkit\n",
    "import pywhatkit\n",
    "try:\n",
    "    pywhatkit.sendwhatmsg(\"+919843597599\", \"hi dude good morning\", 00,00)\n",
    "    print(\"success\")\n",
    "except:\n",
    "    print(\"Enter the correct details you fool\")"
   ]
  }
 ],
 "metadata": {
  "interpreter": {
   "hash": "7f59cf964686894871485305ae6ae4773b109ca58f288cae6c7b41a2f1f50e02"
  },
  "kernelspec": {
   "display_name": "Python 3.10.0 64-bit",
   "language": "python",
   "name": "python3"
  },
  "language_info": {
   "codemirror_mode": {
    "name": "ipython",
    "version": 3
   },
   "file_extension": ".py",
   "mimetype": "text/x-python",
   "name": "python",
   "nbconvert_exporter": "python",
   "pygments_lexer": "ipython3",
   "version": "3.8.8"
  },
  "orig_nbformat": 4
 },
 "nbformat": 4,
 "nbformat_minor": 2
}
